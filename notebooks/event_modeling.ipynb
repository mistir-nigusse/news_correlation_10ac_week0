{
 "cells": [
  {
   "cell_type": "code",
   "execution_count": 8,
   "metadata": {},
   "outputs": [
    {
     "name": "stderr",
     "output_type": "stream",
     "text": [
      "[nltk_data] Downloading package punkt to /Users/missy/nltk_data...\n",
      "[nltk_data]   Package punkt is already up-to-date!\n",
      "[nltk_data] Downloading package stopwords to /Users/missy/nltk_data...\n",
      "[nltk_data]   Package stopwords is already up-to-date!\n",
      "[nltk_data] Downloading package wordnet to /Users/missy/nltk_data...\n",
      "[nltk_data]   Package wordnet is already up-to-date!\n"
     ]
    },
    {
     "data": {
      "text/plain": [
       "True"
      ]
     },
     "execution_count": 8,
     "metadata": {},
     "output_type": "execute_result"
    }
   ],
   "source": [
    "\n",
    "import pandas as pd\n",
    "import re,os,sys\n",
    "from nltk.corpus import stopwords\n",
    "from nltk.tokenize import word_tokenize\n",
    "from nltk.stem import PorterStemmer\n",
    "from sklearn.feature_extraction.text import TfidfVectorizer\n",
    "from sklearn.cluster import KMeans\n",
    "import matplotlib.pyplot as plt\n",
    "from nltk.stem import WordNetLemmatizer\n",
    "from sklearn.feature_extraction.text import CountVectorizer\n",
    "from sklearn.decomposition import LatentDirichletAllocation\n",
    "from sklearn.metrics.pairwise import cosine_similarity\n",
    "from scipy.sparse import csr_matrix\n",
    "import string\n",
    "import nltk\n",
    "nltk.download('punkt')\n",
    "nltk.download('stopwords')\n",
    "nltk.download('wordnet')"
   ]
  },
  {
   "cell_type": "code",
   "execution_count": 2,
   "metadata": {},
   "outputs": [
    {
     "name": "stdout",
     "output_type": "stream",
     "text": [
      "Namespace(output='news_output.csv', path='data', news='rating.csv', traffic='trafiic.csv', domain='domains_location.csv')\n",
      "Output File: news_output.csv\n",
      "Path: data\n",
      "News Data: rating.csv\n",
      "Traffic Data: trafiic.csv\n",
      "Domain Location Data: domains_location.csv\n"
     ]
    }
   ],
   "source": [
    "os.chdir('..')\n",
    "\n",
    "# Import NewsDataLoader and configuration\n",
    "from src.loader import NewsDataLoader\n",
    "from src.config import cfg\n",
    "\n",
    "# Import utility functions\n",
    "import src.utils as utils\n",
    "\n",
    "data_loader = NewsDataLoader(cfg.path)\n",
    "data_df = data_loader.get_news_data()\n",
    "traffic_data_df = data_loader.get_traffic_data()\n",
    "domains_df = data_loader.get_domain_location_data()"
   ]
  },
  {
   "cell_type": "code",
   "execution_count": 3,
   "metadata": {},
   "outputs": [],
   "source": [
    "\n",
    "# Drop unnecessary columns\n",
    "if 'source_id' in data_df.columns:\n",
    "    data_df.drop(columns=['source_id'], inplace=True)\n",
    "\n",
    "if 'url_to_image' in data_df.columns:\n",
    "    data_df.drop(columns=['url_to_image'], inplace=True)\n",
    "\n",
    "# Drop rows with missing values\n",
    "data_df = data_df.dropna(axis=0)\n",
    "domain_locations_df = domains_df.dropna(axis=0)\n",
    "\n",
    "# rating_df['domain'] = rating_df['url'].apply(get_domain)\n",
    "\n",
    "merge_df=pd.merge(data_df, domain_locations_df ,left_on='source_name', right_on ='SourceCommonName' ,how ='left')\n",
    "merge_df=pd.merge(merge_df, traffic_data_df , left_on ='source_name' ,right_on='Domain' ,how ='left')"
   ]
  },
  {
   "cell_type": "code",
   "execution_count": 4,
   "metadata": {},
   "outputs": [
    {
     "name": "stdout",
     "output_type": "stream",
     "text": [
      "Number of events: 10\n",
      "News sites reporting events earliest:\n",
      " source_name\n",
      "Android Central                 2023-10-01 20:00:46.000000\n",
      "Al Jazeera English              2023-10-01 20:22:17.000000\n",
      "Deadline                        2023-10-01 23:35:34.000000\n",
      "BBC News                        2023-10-02 00:04:05.000000\n",
      "Business Insider                2023-10-02 00:10:25.000000\n",
      "RT                              2023-10-02 01:32:33.000000\n",
      "Forbes                          2023-10-02 02:03:15.000000\n",
      "The Indian Express              2023-10-02 02:04:23.000000\n",
      "International Business Times    2023-10-02 02:45:30.000000\n",
      "Time                            2023-10-02 05:00:00.000000\n",
      "GlobeNewswire                   2023-10-02 05:30:00.000000\n",
      "The Times of India              2023-10-02 06:42:03.000000\n",
      "Phys.Org                        2023-10-02 07:30:39.000000\n",
      "Globalsecurity.org              2023-10-02 08:07:51.000000\n",
      "Marketscreener.com              2023-10-02 08:16:05.000000\n",
      "NPR                             2023-10-02 08:27:22.000000\n",
      "ABC News                        2023-10-02 08:31:26.000000\n",
      "CNN                             2023-10-02 09:33:13.000000\n",
      "Boing Boing                     2023-10-02 10:13:00.000000\n",
      "Digital Trends                  2023-10-02 10:15:38.000000\n",
      "The Punch                       2023-10-02 11:13:26.000000\n",
      "Wired                           2023-10-02 12:00:00.000000\n",
      "The Verge                       2023-10-02 13:00:00.000000\n",
      "Gizmodo.com                     2023-10-02 13:00:00.000000\n",
      "ReadWrite                       2023-10-02 14:36:38.000000\n",
      "ETF Daily News                  2023-10-27 11:08:41.000000\n",
      "AllAfrica - Top Africa News            2023-11-04 12:03:17\n",
      "Euronews                               2023-11-14 05:47:02\n",
      "Name: published_at, dtype: object\n",
      "Event reporting frequency:\n",
      " cluster\n",
      "5    25833\n",
      "3     6410\n",
      "0     5748\n",
      "9     4454\n",
      "6     4346\n",
      "1     4181\n",
      "8     2049\n",
      "7     1564\n",
      "4     1057\n",
      "2      523\n",
      "Name: count, dtype: int64\n"
     ]
    },
    {
     "data": {
      "image/png": "[encoded data removed]",
      "text/plain": [
       "<Figure size 1000x600 with 1 Axes>"
      ]
     },
     "metadata": {},
     "output_type": "display_data"
    }
   ],
   "source": [
    "stop_words = set(stopwords.words('english'))\n",
    "ps = PorterStemmer()\n",
    "\n",
    "def preprocess_text(text):\n",
    "    text = text.lower()\n",
    "\n",
    "    text = re.sub(r'[^a-zA-Z0-9\\s]', '', text)\n",
    "\n",
    "    tokens = word_tokenize(text)\n",
    "    # Remove stop words and apply stemming\n",
    "    filtered_tokens = [ps.stem(word) for word in tokens if word not in stop_words]\n",
    "    # Join the filtered tokens back into text\n",
    "    preprocessed_text = ' '.join(filtered_tokens)\n",
    "    return preprocessed_text\n",
    "\n",
    "merge_df['preprocessed_content'] = merge_df['content'].apply(preprocess_text)\n",
    "\n",
    "vectorizer = TfidfVectorizer(stop_words='english')\n",
    "tfidf_matrix = vectorizer.fit_transform(merge_df['preprocessed_content'])\n",
    "\n",
    "#  Clustering\n",
    "num_clusters = 10  # Choose an appropriate number of clusters\n",
    "kmeans = KMeans(n_clusters=num_clusters, random_state=42)\n",
    "kmeans.fit(tfidf_matrix)\n",
    "\n",
    "\n",
    "merge_df['cluster'] = kmeans.labels_\n",
    "\n",
    "# Count the number of events covered in the data\n",
    "num_events = merge_df['cluster'].nunique()\n",
    "print(\"Number of events:\", num_events)\n",
    "\n",
    "# Determine which news sites report events the earliest\n",
    "earliest_reporting = merge_df.groupby('source_name')['published_at'].min()\n",
    "earliest_reporting = earliest_reporting.sort_values()\n",
    "print(\"News sites reporting events earliest:\\n\", earliest_reporting)\n",
    "\n",
    "event_counts = merge_df['cluster'].value_counts()\n",
    "print(\"Event reporting frequency:\\n\", event_counts)\n",
    "\n",
    "# Plotting\n",
    "plt.figure(figsize=(10, 6))\n",
    "plt.bar(event_counts.index, event_counts.values, color='skyblue')\n",
    "plt.xlabel('Event Cluster')\n",
    "plt.ylabel('Number of Articles')\n",
    "plt.title('Event Reporting Frequency')\n",
    "plt.show()"
   ]
  },
  {
   "cell_type": "code",
   "execution_count": 20,
   "metadata": {},
   "outputs": [
    {
     "name": "stdout",
     "output_type": "stream",
     "text": [
      "Index(['article_id', 'source_name', 'author', 'title', 'description',\n",
      "       'published_at', 'content', 'category', 'article', 'title_sentiment'],\n",
      "      dtype='object')\n"
     ]
    },
    {
     "name": "stderr",
     "output_type": "stream",
     "text": [
      "/var/folders/14/f3j86z751wb6b5yyjr_10z0c0000gn/T/ipykernel_76780/4062445611.py:5: SettingWithCopyWarning: \n",
      "A value is trying to be set on a copy of a slice from a DataFrame\n",
      "\n",
      "See the caveats in the documentation: https://pandas.pydata.org/pandas-docs/stable/user_guide/indexing.html#returning-a-view-versus-a-copy\n",
      "  domain_locations_df.dropna(axis=0, inplace=True)\n"
     ]
    }
   ],
   "source": [
    "print(data_df.columns)\n",
    "\n",
    "# # Drop rows with missing values\n",
    "data_df.dropna(axis=0, inplace=True)\n",
    "domain_locations_df.dropna(axis=0, inplace=True)\n",
    "\n",
    "# # Merge dataframes\n",
    "merge_df = pd.merge(data_df, domain_locations_df, left_on='source_name', right_on='SourceCommonName', how='left')\n",
    "merge_df = pd.merge(merge_df, traffic_data_df, left_on='source_name', right_on='Domain', how='left')\n",
    "\n",
    "\n"
   ]
  },
  {
   "cell_type": "code",
   "execution_count": 21,
   "metadata": {},
   "outputs": [],
   "source": [
    "\n",
    "# Preprocess text data\n",
    "def preprocess_text(text):\n",
    "    tokens = word_tokenize(text)\n",
    "    tokens = [token.lower() for token in tokens if token.isalnum()]\n",
    "    stop_words = set(stopwords.words('english'))\n",
    "    tokens = [token for token in tokens if token not in stop_words]\n",
    "    lemmatizer = WordNetLemmatizer()\n",
    "    tokens = [lemmatizer.lemmatize(token) for token in tokens]\n",
    "    preprocessed_text = ' '.join(tokens)\n",
    "    return preprocessed_text\n",
    "\n",
    "merge_df['processed_content'] = merge_df['content'].apply(preprocess_text)\n",
    "\n",
    "# Sample the data\n",
    "sample_size = 10  # Adjust the sample size as needed\n",
    "merge_df = merge_df.sample(n=sample_size, random_state=42)"
   ]
  },
  {
   "cell_type": "code",
   "execution_count": 22,
   "metadata": {},
   "outputs": [
    {
     "name": "stdout",
     "output_type": "stream",
     "text": [
      "Event 0:\n",
      "title      Maui Land & Pineapple (NYSE:MLP) Upgraded to “...\n",
      "content    StockNews.com upgraded shares of Maui Land &am...\n",
      "Name: 43500, dtype: object\n",
      "title      Russell Investments Group Ltd. Has $108.23 Mil...\n",
      "content    Russell Investments Group Ltd. reduced its sta...\n",
      "Name: 40349, dtype: object\n",
      "\n",
      "Event 1:\n",
      "title      Art & Craft Tools Market Size to Hit USD 5.44 ...\n",
      "content    Pune, India, Nov. 22, 2023 (GLOBE NEWSWIRE) --...\n",
      "Name: 49392, dtype: object\n",
      "\n",
      "Event 2:\n",
      "\n",
      "Event 3:\n",
      "title      linkedin's 'open to work' tag is the 'biggest ...\n",
      "content    LinkedIn lets users put an \"Open to Work\" badg...\n",
      "Name: 3120, dtype: object\n",
      "title      Sharon Stone Paid Leonardo DiCaprio’s, Russell...\n",
      "content    Leonardo DiCaprio still remembers Sharon Stone...\n",
      "Name: 41226, dtype: object\n",
      "\n",
      "Event 4:\n",
      "title      israel gaza: joe biden calls for 'pause' in co...\n",
      "content    US President Joe Biden has called for a \"pause...\n",
      "Name: 3181, dtype: object\n",
      "\n",
      "Event 5:\n",
      "title              Stock Market Exhibiting ‘Bull Trap’ Signs\n",
      "content    Bull traps lead to bear market losses\\ngetty\\n...\n",
      "Name: 31114, dtype: object\n",
      "\n",
      "Event 6:\n",
      "title                    Progress on share buyback programme\n",
      "content    Progress on share buyback programme\\nING annou...\n",
      "Name: 34261, dtype: object\n",
      "\n",
      "Event 7:\n",
      "title      linkedin's 'open to work' tag is the 'biggest ...\n",
      "content    LinkedIn lets users put an \"Open to Work\" badg...\n",
      "Name: 3120, dtype: object\n",
      "title      Sharon Stone Paid Leonardo DiCaprio’s, Russell...\n",
      "content    Leonardo DiCaprio still remembers Sharon Stone...\n",
      "Name: 41226, dtype: object\n",
      "\n",
      "Event 8:\n",
      "title      Third Infantry Division conducts command post ...\n",
      "content    By Capt. Charlie Egan November 6, 2023\\nBOLESA...\n",
      "Name: 21069, dtype: object\n",
      "\n",
      "Event 9:\n",
      "title      Maui Land & Pineapple (NYSE:MLP) Upgraded to “...\n",
      "content    StockNews.com upgraded shares of Maui Land &am...\n",
      "Name: 43500, dtype: object\n",
      "title      Russell Investments Group Ltd. Has $108.23 Mil...\n",
      "content    Russell Investments Group Ltd. reduced its sta...\n",
      "Name: 40349, dtype: object\n",
      "\n"
     ]
    }
   ],
   "source": [
    "# Vectorize the text data\n",
    "vectorizer = CountVectorizer(max_df=0.95, min_df=2, stop_words='english')\n",
    "X = vectorizer.fit_transform(merge_df['processed_content'])\n",
    "\n",
    "X_sparse = csr_matrix(X)\n",
    "cosine_sim_matrix = cosine_similarity(X_sparse)\n",
    "similarity_threshold = 0.5\n",
    "\n",
    "# Fit LDA model\n",
    "num_topics = 10  # Adjust the number of topics as needed\n",
    "lda_model = LatentDirichletAllocation(n_components=num_topics, random_state=42)\n",
    "lda_model.fit(X)\n",
    "\n",
    "# Assign topics to articles\n",
    "merge_df['topic'] = lda_model.transform(X).argmax(axis=1)\n",
    "\n",
    "# Apply event detection to each article in the sampled subset\n",
    "related_articles_list = []\n",
    "for article_index in range(len(merge_df)):\n",
    "    related_articles = set()\n",
    "    for i, similarity_score in enumerate(cosine_sim_matrix[article_index]):\n",
    "        if similarity_score > similarity_threshold:\n",
    "            related_articles.add(i)\n",
    "    related_articles_list.append(related_articles)\n",
    "\n",
    "merge_df['related_articles'] = related_articles_list\n",
    "\n",
    "# Explore the detected events\n",
    "for event_id, event_articles in enumerate(merge_df['related_articles']):\n",
    "    print(f\"Event {event_id}:\")\n",
    "    for article_index in event_articles:\n",
    "        if article_index < len(merge_df):  # Check if the index is within bounds\n",
    "            article = merge_df.iloc[article_index][['title', 'content']]\n",
    "            print(article)\n",
    "    print()"
   ]
  }
 ],
 "metadata": {
  "kernelspec": {
   "display_name": "Python 3",
   "language": "python",
   "name": "python3"
  },
  "language_info": {
   "codemirror_mode": {
    "name": "ipython",
    "version": 3
   },
   "file_extension": ".py",
   "mimetype": "text/x-python",
   "name": "python",
   "nbconvert_exporter": "python",
   "pygments_lexer": "ipython3",
   "version": "3.12.2"
  }
 },
 "nbformat": 4,
 "nbformat_minor": 2
}
